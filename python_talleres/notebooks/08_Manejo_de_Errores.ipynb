{
 "cells": [
  {
   "cell_type": "markdown",
   "metadata": {},
   "source": [
    "# 8) Manejo de errores (excepciones)\n",
    "\n",
    "## ¿Qué es?\n",
    "Un **mecanismo para responder a fallos** en tiempo de ejecución sin romper el programa.\n",
    "\n",
    "## ¿Para qué se usa?\n",
    "Para **procesar entradas inválidas, errores de cálculo o recursos faltantes**.\n",
    "\n",
    "## Bloques útiles\n",
    "- `try`/`except` para capturar excepciones\n",
    "- `else` para código que corre si no hubo excepción\n",
    "- `finally` para limpieza\n",
    "- `raise` para lanzar errores propios\n"
   ]
  },
  {
   "cell_type": "code",
   "execution_count": null,
   "metadata": {},
   "outputs": [],
   "source": [
    "try:\n",
    "    n = int(\"42\")\n",
    "    print(\"Doble:\", n*2)\n",
    "except ValueError:\n",
    "    print(\"Entrada no válida.\")\n",
    "\n",
    "try:\n",
    "    x = 10 / 0\n",
    "except ZeroDivisionError:\n",
    "    print(\"No puedes dividir por cero.\")\n"
   ]
  },
  {
   "cell_type": "markdown",
   "metadata": {},
   "source": [
    "### Ejercicios\n",
    "- E1: Conversor robusto `str -> int` que reintente si falla.\n",
    "- E2: Calculadora con manejo de `ZeroDivisionError` y `ValueError`.\n",
    "- E3: Lector de opción de menú que solo acepta `1..4`.\n",
    "\n",
    "### Reto extra\n",
    "`leer_float(msg, intentos=3)` que reintente y lance excepción personalizada si se agotan intentos.\n"
   ]
  },
  {
   "cell_type": "code",
   "execution_count": 6,
   "id": "465f7b26",
   "metadata": {},
   "outputs": [
    {
     "name": "stdout",
     "output_type": "stream",
     "text": [
      "Tu edad es 4\n"
     ]
    }
   ],
   "source": [
    "def num(mensaje: str = \"Ingrese un número: \") -> int:\n",
    "    while True:\n",
    "        entrada = input(mensaje)\n",
    "        try:\n",
    "            return int(entrada) \n",
    "        except ValueError:\n",
    "            print(\"Error: debe ingresar un número entero válido.\")\n",
    "numero = num(\"Dime tu edad: \")\n",
    "print(f\"Tu edad es {numero}\")\n"
   ]
  },
  {
   "cell_type": "code",
   "execution_count": 8,
   "metadata": {},
   "outputs": [
    {
     "name": "stdout",
     "output_type": "stream",
     "text": [
      "Resultado: 15.0\n"
     ]
    }
   ],
   "source": [
    "\n",
    "try:\n",
    "        a = float(input(\"Ingrese el primer número \"))\n",
    "        b = float(input(\"Ingrese el segundo número \"))\n",
    "        operacion = input(\"Ingrese operación (de esta forma: +, -, *, /) \")\n",
    "        if operacion == \"+\":\n",
    "            print(f\"Resultado: {a + b}\")\n",
    "        elif operacion == \"-\":\n",
    "            print(f\"Resultado: {a - b}\")\n",
    "        elif operacion == \"*\":\n",
    "            print(f\"Resultado: {a * b}\")\n",
    "        elif operacion == \"/\":\n",
    "            print(f\"Resultado: {a / b}\")\n",
    "        else:\n",
    "            print(\"Operación no válida\")\n",
    "except ValueError:\n",
    "        print(\"Error: debe ingresar solo números\")\n",
    "except ZeroDivisionError:\n",
    "        print(\"Error, no se puede dividir entre 0\")\n",
    "\n"
   ]
  },
  {
   "cell_type": "code",
   "execution_count": 10,
   "id": "26dfb5cb",
   "metadata": {},
   "outputs": [
    {
     "name": "stdout",
     "output_type": "stream",
     "text": [
      "Menú:\n",
      "1. Sumar\n",
      "2. Restar\n",
      "3. Multiplicar\n",
      "4. Salir\n",
      "Opción elegida: 2\n"
     ]
    }
   ],
   "source": [
    "print(\"Menú:\")\n",
    "print(\"1. Sumar\")\n",
    "print(\"2. Restar\")\n",
    "print(\"3. Multiplicar\")\n",
    "print(\"4. Salir\")\n",
    "\n",
    "while True:\n",
    "    try:\n",
    "        opcion = int(input(\"Elige una opción (1-4): \"))\n",
    "        if 1 <= opcion <= 4:\n",
    "            break\n",
    "        else:\n",
    "            print(\"Error: opción fuera de rango (1-4).\")\n",
    "    except ValueError:\n",
    "        print(\"Error: debes ingresar un número entero.\")\n",
    "\n",
    "print(f\"Opción elegida: {opcion}\")\n"
   ]
  }
 ],
 "metadata": {
  "kernelspec": {
   "display_name": "Python 3",
   "language": "python",
   "name": "python3"
  },
  "language_info": {
   "codemirror_mode": {
    "name": "ipython",
    "version": 3
   },
   "file_extension": ".py",
   "mimetype": "text/x-python",
   "name": "python",
   "nbconvert_exporter": "python",
   "pygments_lexer": "ipython3",
   "version": "3.13.7"
  }
 },
 "nbformat": 4,
 "nbformat_minor": 5
}
