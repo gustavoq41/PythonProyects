{
 "cells": [
  {
   "cell_type": "markdown",
   "metadata": {},
   "source": [
    "# 4) Estructuras de control: `if`, `for`, `while`\n",
    "\n",
    "## ¿Qué son?\n",
    "Mecanismos para **tomar decisiones** (`if`) y **repetir acciones** (`for`, `while`).\n",
    "\n",
    "## ¿Para qué se usan?\n",
    "Para **controlar el flujo** de un programa según condiciones y colecciones.\n",
    "\n",
    "## Ideas clave\n",
    "- La **indentación** define bloques.\n",
    "- `for` itera sobre secuencias; `range(n)` genera 0..n-1.\n",
    "- `while` repite mientras la condición sea verdadera.\n",
    "- `break`/`continue` controlan el bucle.\n"
   ]
  },
  {
   "cell_type": "code",
   "execution_count": null,
   "metadata": {},
   "outputs": [],
   "source": [
    "# Par o impar\n",
    "n = 7\n",
    "if n % 2 == 0:\n",
    "    print(\"Par\")\n",
    "else:\n",
    "    print(\"Impar\")\n",
    "\n",
    "# Suma 1..10\n",
    "total = 0\n",
    "for i in range(1, 11):\n",
    "    total += i\n",
    "print(\"Suma 1..10:\", total)\n",
    "\n",
    "# Cuenta regresiva con while\n",
    "c = 5\n",
    "while c > 0:\n",
    "    print(c)\n",
    "    c -= 1\n"
   ]
  },
  {
   "cell_type": "markdown",
   "metadata": {},
   "source": [
    "### Ejercicios\n",
    "- E1: Clasifica una nota (0–100) en A/B/C/D/F.\n",
    "- E2: Imprime la tabla de multiplicar de un número (1–10).\n",
    "- E3: Con `while`, pide números hasta 0; muestra suma y promedio.\n",
    "\n",
    "### Reto extra\n",
    "**FizzBuzz** de 1 a 100.\n"
   ]
  },
  {
   "cell_type": "code",
   "execution_count": 13,
   "id": "a3189607",
   "metadata": {},
   "outputs": [
    {
     "name": "stdout",
     "output_type": "stream",
     "text": [
      "Su nota es F\n"
     ]
    }
   ],
   "source": [
    "nota=int(input(\"Ingrese su nota\"))\n",
    "if nota > 100 :\n",
    "    print(\"Su nota no es valida\")\n",
    "elif nota >= 90:\n",
    "    print(\"Su nota es A\")\n",
    "elif nota >=80:\n",
    "    print(\"Su nota es B\")\n",
    "elif nota >=70:\n",
    "     print(\"Su nota es c\")\n",
    "elif nota >=60:\n",
    "     print(\"Su nota es D\")\n",
    "elif nota <0:\n",
    "     print(\"Su nota no es valida\")\n",
    "else:\n",
    "     print(\"Su nota es F\")\n",
    "\n",
    "\n",
    "\n",
    "  "
   ]
  },
  {
   "cell_type": "code",
   "execution_count": 4,
   "id": "529e1afd",
   "metadata": {},
   "outputs": [
    {
     "name": "stdout",
     "output_type": "stream",
     "text": [
      "5x0 = 0\n",
      "5x1 = 5\n",
      "5x2 = 10\n",
      "5x3 = 15\n",
      "5x4 = 20\n",
      "5x5 = 25\n",
      "5x6 = 30\n",
      "5x7 = 35\n",
      "5x8 = 40\n",
      "5x9 = 45\n",
      "5x10 = 50\n"
     ]
    }
   ],
   "source": [
    "numero=int(input(\"Ingrese el numero\"))\n",
    "for x in range (11):\n",
    " producto=numero*x\n",
    " print(f\"{numero}x{x} = {producto}\")\n"
   ]
  },
  {
   "cell_type": "code",
   "execution_count": null,
   "id": "9eb1a29d",
   "metadata": {},
   "outputs": [
    {
     "name": "stdout",
     "output_type": "stream",
     "text": [
      "El promedio es 3.0\n"
     ]
    }
   ],
   "source": [
    "contador=int(input(\"Ingrese los numeros a sumar y promediar, cuando quiera finalizar ingrese el numero 0\"))\n",
    "numeros=[]\n",
    "promedio=0\n",
    "while contador != 0:\n",
    "    numeros.append(contador)\n",
    "    contador=int(input(\"Ingrese los numeros a sumar y promediar, cuando quiera finalizar ingrese el numero 0\"))\n",
    "for x in numeros:\n",
    "    promedio = promedio + x\n",
    "\n",
    "promedio= promedio / len(numeros)\n",
    "print(f\"El promedio es {promedio}\")"
   ]
  }
 ],
 "metadata": {
  "kernelspec": {
   "display_name": "Python 3",
   "language": "python",
   "name": "python3"
  },
  "language_info": {
   "codemirror_mode": {
    "name": "ipython",
    "version": 3
   },
   "file_extension": ".py",
   "mimetype": "text/x-python",
   "name": "python",
   "nbconvert_exporter": "python",
   "pygments_lexer": "ipython3",
   "version": "3.13.7"
  }
 },
 "nbformat": 4,
 "nbformat_minor": 5
}
