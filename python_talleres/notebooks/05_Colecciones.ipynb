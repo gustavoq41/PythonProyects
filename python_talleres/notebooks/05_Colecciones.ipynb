{
 "cells": [
  {
   "cell_type": "markdown",
   "metadata": {},
   "source": [
    "# 5) Colecciones: listas, tuplas y diccionarios\n",
    "\n",
    "## ¿Qué son?\n",
    "Estructuras para **agrupar datos**: secuencias (`list`, `tuple`) y mapeos (`dict`).\n",
    "\n",
    "## ¿Para qué se usan?\n",
    "Para **organizar, acceder y transformar** conjuntos de valores.\n",
    "\n",
    "## Puntos clave\n",
    "- `list` (mutable) — métodos como `append`, `pop`, `sort`.\n",
    "- `tuple` (inmutable) — útil para datos que no cambian.\n",
    "- `dict` (clave→valor) — acceso por clave y métodos `.items()`, `.keys()`.\n"
   ]
  },
  {
   "cell_type": "code",
   "execution_count": 1,
   "metadata": {},
   "outputs": [
    {
     "name": "stdout",
     "output_type": "stream",
     "text": [
      "Lista: ['arepa', 'ajiaco', 'bandeja', 'sancocho']\n",
      "Tupla: 10 20\n",
      "nombre -> Ada\n",
      "edad -> 29\n",
      "ciudad -> Bogotá\n"
     ]
    }
   ],
   "source": [
    "comidas = [\"arepa\", \"ajiaco\", \"bandeja\"]\n",
    "comidas.append(\"sancocho\")\n",
    "print(\"Lista:\", comidas)\n",
    "\n",
    "punto = (10, 20)\n",
    "print(\"Tupla:\", punto[0], punto[1])\n",
    "\n",
    "persona = {\"nombre\": \"Ada\", \"edad\": 28, \"ciudad\": \"Bogotá\"}\n",
    "persona[\"edad\"] += 1\n",
    "for k, v in persona.items():\n",
    "    print(k, \"->\", v)\n"
   ]
  },
  {
   "cell_type": "markdown",
   "metadata": {},
   "source": [
    "### Ejercicios\n",
    "- E1: Lista de 5 números, calcula suma y promedio.\n",
    "- E2: Diccionario de 3 contactos (nombre→tel), consulta por nombre.\n",
    "- E3: Convierte lista de pares `(clave, valor)` en `dict` y recórrelo.\n",
    "\n",
    "### Reto extra\n",
    "**Inventario simple**: lista de dicts con `{\"producto\",\"precio\",\"stock\"}`. Muestra:\n",
    "- Total del inventario.\n",
    "- Producto más caro.\n"
   ]
  },
  {
   "cell_type": "code",
   "execution_count": 5,
   "id": "457e4e77",
   "metadata": {},
   "outputs": [
    {
     "name": "stdout",
     "output_type": "stream",
     "text": [
      "Su promedio es 3.0\n"
     ]
    }
   ],
   "source": [
    "numeros=[]\n",
    "for n in range (5):\n",
    "\n",
    " numeros.append(int(input(\"Ingrese los numeros\")))\n",
    "promedio=0\n",
    "for i in numeros:\n",
    "    promedio=promedio + i\n",
    "promedio = promedio/5\n",
    "print (f\"Su promedio es {promedio}\")"
   ]
  },
  {
   "cell_type": "code",
   "execution_count": 8,
   "id": "9c578121",
   "metadata": {},
   "outputs": [
    {
     "name": "stdout",
     "output_type": "stream",
     "text": [
      "Ese contacto no existe.\n"
     ]
    }
   ],
   "source": [
    "\n",
    "diccionario = {}\n",
    "\n",
    "persona = {\n",
    "    \"Felipe\": 3204568,\n",
    "    \"Catalina\": 3256874,\n",
    "    \"Andrea\": 30449625\n",
    "}\n",
    "nombre = input(\"Ingrese el nombre del contacto \")\n",
    "if nombre in persona:\n",
    "    print(persona[nombre])\n",
    "else:\n",
    "    print(\"Ese contacto no existe.\")"
   ]
  },
  {
   "cell_type": "code",
   "execution_count": 10,
   "id": "b0f58c06",
   "metadata": {},
   "outputs": [
    {
     "name": "stdout",
     "output_type": "stream",
     "text": [
      "{'clave 1': 277353, 'clave 2': 41305, 'clave 3': 40291}\n"
     ]
    }
   ],
   "source": [
    "lista = [(\"clave 1\", 277353), (\"clave 2\", 41305), (\"clave 3\", 40291)]\n",
    "\n",
    "diccionario = dict(lista)\n",
    "print(diccionario)\n"
   ]
  }
 ],
 "metadata": {
  "kernelspec": {
   "display_name": "Python 3",
   "language": "python",
   "name": "python3"
  },
  "language_info": {
   "codemirror_mode": {
    "name": "ipython",
    "version": 3
   },
   "file_extension": ".py",
   "mimetype": "text/x-python",
   "name": "python",
   "nbconvert_exporter": "python",
   "pygments_lexer": "ipython3",
   "version": "3.13.7"
  }
 },
 "nbformat": 4,
 "nbformat_minor": 5
}
