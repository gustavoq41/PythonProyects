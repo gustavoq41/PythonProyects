{
 "cells": [
  {
   "cell_type": "markdown",
   "metadata": {},
   "source": [
    "# 7) Entrada/Salida y formateo\n",
    "\n",
    "## ¿Qué es?\n",
    "La **interacción por consola**: leer con `input()` y mostrar con `print()`.\n",
    "\n",
    "## ¿Para qué se usa?\n",
    "Para **recoger datos del usuario** y **presentar resultados** con buen formato.\n",
    "\n",
    "## Claves de formateo\n",
    "- f-strings: `f\"{valor:.2f}\"`\n",
    "- `sep` y `end` en `print`\n",
    "- Conversión explícita de tipos al leer (`int`, `float`)\n"
   ]
  },
  {
   "cell_type": "code",
   "execution_count": null,
   "metadata": {},
   "outputs": [],
   "source": [
    "# Suma con formateo\n",
    "a = 12.3456\n",
    "b = 7.8\n",
    "print(f\"Suma: {a + b:.2f}\")\n",
    "print(\"uno\", \"dos\", \"tres\", sep=\" | \", end=\".\n",
    "\")\n"
   ]
  },
  {
   "cell_type": "markdown",
   "metadata": {},
   "source": [
    "### Ejercicios\n",
    "- E1: Pide nombre y año de nacimiento; calcula edad.\n",
    "- E2: Factura: subtotal, IVA (19%), total con 2 decimales.\n",
    "- E3: “Ficha” multi-línea con `\\n` y f-strings.\n",
    "\n",
    "### Reto extra\n",
    "Lee tres notas y muestra promedio, mínima, máxima y si aprueba (>=3.0).\n"
   ]
  },
  {
   "cell_type": "code",
   "execution_count": 1,
   "id": "fe4dc132",
   "metadata": {},
   "outputs": [
    {
     "name": "stdout",
     "output_type": "stream",
     "text": [
      "Su nombre es andrés y tiene 18 años\n"
     ]
    }
   ],
   "source": [
    "nombre=input(\"Ingrese su nombre\")\n",
    "fecha=int(input(\"Ingrese su año de nacimiento\"))\n",
    "fecha =2025-fecha\n",
    "print(f\"Su nombre es {nombre} y tiene {fecha} años\")"
   ]
  },
  {
   "cell_type": "code",
   "execution_count": 2,
   "id": "21c74af5",
   "metadata": {},
   "outputs": [
    {
     "name": "stdout",
     "output_type": "stream",
     "text": [
      "El subtotal es 2500.00\n",
      "El total del IVA es 475.00\n",
      "El total a pagares de $2975.00\n"
     ]
    }
   ],
   "source": [
    "subtotal = float(input(\"Ingrese el subtotal de la factura: \"))\n",
    "\n",
    "iva = subtotal * 0.19\n",
    "\n",
    "total = subtotal + iva\n",
    "\n",
    "print(f\"El subtotal es {subtotal:.2f}\")\n",
    "print(f\"El total del IVA es {iva:.2f}\")\n",
    "print(f\"El total a pagares de ${total:.2f}\")\n"
   ]
  },
  {
   "cell_type": "code",
   "execution_count": null,
   "id": "9304afd4",
   "metadata": {},
   "outputs": [],
   "source": [
    "nombre = \"Juan\"\n",
    "edad = 25\n",
    "ciudad = \"Bogotá\"\n",
    "ficha = f\"Nombre: {nombre}\\nEdad: {edad}\\nCiudad: {ciudad}\"\n",
    "print(ficha)\n"
   ]
  }
 ],
 "metadata": {
  "kernelspec": {
   "display_name": "Python 3",
   "language": "python",
   "name": "python3"
  },
  "language_info": {
   "codemirror_mode": {
    "name": "ipython",
    "version": 3
   },
   "file_extension": ".py",
   "mimetype": "text/x-python",
   "name": "python",
   "nbconvert_exporter": "python",
   "pygments_lexer": "ipython3",
   "version": "3.13.7"
  }
 },
 "nbformat": 4,
 "nbformat_minor": 5
}
