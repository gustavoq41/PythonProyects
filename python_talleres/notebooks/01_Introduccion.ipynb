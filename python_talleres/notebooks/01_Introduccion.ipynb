{
 "cells": [
  {
   "cell_type": "markdown",
   "id": "7b447091",
   "metadata": {},
   "source": [
    "# 1) Introducción y *Hola, mundo*\n",
    "\n",
    "## ¿Qué es Python?\n",
    "Python es un **lenguaje de programación de propósito general**, interpretado y con sintaxis clara. Destaca por su legibilidad y una batería estándar amplia.\n",
    "\n",
    "## ¿Para qué se usa?\n",
    "- Scripts y automatización\n",
    "- Ciencia de datos y aprendizaje automático\n",
    "- Desarrollo web, APIs y microservicios\n",
    "- Computación científica, prototipado rápido, educación\n",
    "\n",
    "## Ideas clave\n",
    "- **REPL** (consola interactiva) y **scripts** (`.py`).\n",
    "- **Indentación** significativa: los bloques se definen por sangría.\n",
    "- Comunidad enorme y ecosistema de librerías.\n"
   ]
  },
  {
   "cell_type": "markdown",
   "metadata": {},
   "source": [
    "## Taller — Paso a paso\n",
    "1. Crea un archivo `hola.py` con un `print`.\n",
    "2. Ejecútalo desde la terminal (o usa el botón *Run* en el notebook).\n",
    "3. Agrega expresiones aritméticas y múltiples impresiones.\n"
   ]
  },
  {
   "cell_type": "code",
   "execution_count": null,
   "metadata": {},
   "outputs": [
    {
     "ename": "_IncompleteInputError",
     "evalue": "incomplete input (1627619137.py, line 7)",
     "output_type": "error",
     "traceback": [
      "  \u001b[36mCell\u001b[39m\u001b[36m \u001b[39m\u001b[32mIn[9]\u001b[39m\u001b[32m, line 7\u001b[39m\n\u001b[31m    \u001b[39m\u001b[31mround (44.5\u001b[39m\n               ^\n\u001b[31m_IncompleteInputError\u001b[39m\u001b[31m:\u001b[39m incomplete input\n"
     ]
    }
   ],
   "source": [
    "# Tu primer programa\n",
    "print(\"¡Hola, Python!\")\n",
    "print(\"2 + 2 =\", 2 + 2)\n",
    "round (42,5)\n",
    "round (43,5)\n",
    "2++2\n",
    "4 2\n",
    "round (44.5"
   ]
  },
  {
   "cell_type": "markdown",
   "metadata": {},
   "source": [
    "### Ejercicios guiados\n",
    "- E1: Imprime tu nombre y ciudad.\n",
    "- E2: Imprime tres líneas usando `\\n`.\n",
    "- E3: Crea una variable `hoy` con la fecha actual formateada.\n",
    "\n",
    "### Reto extra\n",
    "Dibuja un marco simple con caracteres y un saludo en el centro.\n"
   ]
  },
  {
   "cell_type": "code",
   "execution_count": 1,
   "metadata": {},
   "outputs": [
    {
     "name": "stdout",
     "output_type": "stream",
     "text": [
      "Hoy es: 2025-09-08\n"
     ]
    }
   ],
   "source": [
    "# Pista para E3 (no es obligatorio usarlo aquí)\n",
    "from datetime import datetime\n",
    "hoy = datetime.now().strftime(\"%Y-%m-%d\")\n",
    "print(\"Hoy es:\", hoy)\n"
   ]
  }
 ],
 "metadata": {
  "kernelspec": {
   "display_name": "Python 3",
   "language": "python",
   "name": "python3"
  },
  "language_info": {
   "codemirror_mode": {
    "name": "ipython",
    "version": 3
   },
   "file_extension": ".py",
   "mimetype": "text/x-python",
   "name": "python",
   "nbconvert_exporter": "python",
   "pygments_lexer": "ipython3",
   "version": "3.13.7"
  }
 },
 "nbformat": 4,
 "nbformat_minor": 5
}
