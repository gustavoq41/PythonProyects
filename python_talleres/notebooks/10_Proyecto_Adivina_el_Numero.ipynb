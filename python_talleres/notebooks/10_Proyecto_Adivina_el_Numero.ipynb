{
 "cells": [
  {
   "cell_type": "markdown",
   "metadata": {},
   "source": [
    "# 10) Mini-proyecto integrador: *Adivina el número*\n",
    "\n",
    "## ¿Qué es?\n",
    "Un pequeño juego de consola para **aplicar todo lo aprendido**: entrada/salida, condicionales, bucles, funciones, manejo de errores y módulos.\n",
    "\n",
    "## ¿Para qué se usa?\n",
    "Para **integrar conceptos** en un programa con lógica de juego, retroalimentación y control de intentos.\n"
   ]
  },
  {
   "cell_type": "markdown",
   "metadata": {},
   "source": [
    "## Especificación\n",
    "- La máquina piensa un número de 1 a 20.\n",
    "- El usuario tiene 3 intentos.\n",
    "- Indica si el intento es mayor/menor y termina si acierta.\n",
    "- Maneja entradas inválidas sin romper el programa.\n",
    "\n",
    "## Extensiones sugeridas\n",
    "- Registrar los intentos y mostrarlos al final.\n",
    "- Elegir rango e intentos.\n",
    "- Guardar/leer puntuaciones de un archivo sencillo.\n"
   ]
  },
  {
   "cell_type": "code",
   "execution_count": 3,
   "metadata": {},
   "outputs": [
    {
     "name": "stdout",
     "output_type": "stream",
     "text": [
      "Adivina el número entre 1 y 20. Tienes 3 intentos.\n",
      "No es. Pista: el secreto es menor.\n",
      "¡Correcto!\n"
     ]
    }
   ],
   "source": [
    "import random\n",
    "\n",
    "def leer_int(msg):\n",
    "    while True:\n",
    "        try:\n",
    "            return int(input(msg))\n",
    "        except ValueError:\n",
    "            print(\"Ingresa un entero válido.\")\n",
    "\n",
    "def juego(intentos=3, minimo=1, maximo=20):\n",
    "    secreto = random.randint(minimo, maximo)\n",
    "    print(f\"Adivina el número entre {minimo} y {maximo}. Tienes {intentos} intentos.\")\n",
    "    for i in range(1, intentos+1):\n",
    "        n = leer_int(f\"Intento {i}: \")\n",
    "        if n == secreto:\n",
    "            print(\"¡Correcto!\")\n",
    "            return\n",
    "        pista = \"mayor\" if n < secreto else \"menor\"\n",
    "        print(f\"No es. Pista: el secreto es {pista}.\")\n",
    "    print(f\"Sin intentos. Era {secreto}.\")\n",
    "\n",
    "if __name__ == \"__main__\":\n",
    "    juego()\n"
   ]
  },
  {
   "cell_type": "code",
   "execution_count": null,
   "id": "e468d977",
   "metadata": {},
   "outputs": [
    {
     "name": "stdout",
     "output_type": "stream",
     "text": [
      "20\n",
      "12\n",
      "6\n",
      "2\n",
      "0\n"
     ]
    }
   ],
   "source": [
    "num=int(input(\"Ingrese el numero\"))\n",
    "resultado=0\n",
    "for i in range (num):\n",
    "    resultado=num*(num-1)\n",
    "    num=num-1\n",
    "print()"
   ]
  }
 ],
 "metadata": {
  "kernelspec": {
   "display_name": "Python 3",
   "language": "python",
   "name": "python3"
  },
  "language_info": {
   "codemirror_mode": {
    "name": "ipython",
    "version": 3
   },
   "file_extension": ".py",
   "mimetype": "text/x-python",
   "name": "python",
   "nbconvert_exporter": "python",
   "pygments_lexer": "ipython3",
   "version": "3.13.7"
  }
 },
 "nbformat": 4,
 "nbformat_minor": 5
}
