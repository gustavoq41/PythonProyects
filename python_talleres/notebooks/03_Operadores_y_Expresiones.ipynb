{
 "cells": [
  {
   "cell_type": "markdown",
   "metadata": {},
   "source": [
    "# 3) Operadores y expresiones\n",
    "\n",
    "## ¿Qué son?\n",
    "Los **operadores** combinan valores para producir un resultado (*expresiones*).\n",
    "\n",
    "## ¿Para qué se usan?\n",
    "Para **calcular, comparar y tomar decisiones**. Son la base de toda lógica.\n",
    "\n",
    "## Familias principales\n",
    "- Aritméticos: `+ - * / // % **`\n",
    "- Comparación: `== != > < >= <=`\n",
    "- Lógicos: `and or not`\n",
    "- Precedencia: paréntesis > potencias > multiplicación/división > suma/resta\n"
   ]
  },
  {
   "cell_type": "code",
   "execution_count": null,
   "metadata": {},
   "outputs": [
    {
     "name": "stdout",
     "output_type": "stream",
     "text": [
      "                                    Hola\n",
      "                             Buenos días\n",
      "\n",
      " L\n",
      "LLL\n",
      "\n",
      "HH\n",
      "HH\n",
      "\n",
      "5 botellas de cerveza en la pared\n",
      "5 botellas de cerveza\n",
      "Toma una y pásala\n",
      "4 botellas de cerveza en la pared\n"
     ]
    }
   ],
   "source": [
    "\n"
   ]
  },
  {
   "cell_type": "markdown",
   "metadata": {},
   "source": [
    "### Ejercicios\n",
    "- E1: Área de un círculo con `pi=3.14159` y radio fijo.\n",
    "- E2: Verifica si un número es múltiplo de 3 y 5.\n",
    "- E3: Evalúa si una edad está en el rango 18–65.\n",
    "\n",
    "### Reto extra\n",
    "Calculadora por consola que reciba `a`, `b` y una operación, y muestre el resultado.\n"
   ]
  },
  {
   "cell_type": "code",
   "execution_count": null,
   "metadata": {},
   "outputs": [
    {
     "name": "stdout",
     "output_type": "stream",
     "text": [
      "5\n"
     ]
    }
   ],
   "source": [
    "# Pista: calculadora básica\n",
    "a=int(input(\"Digite el primer numero\"))\n",
    "b=int(input(\"Digiete el segundo numero\"))\n",
    "op =(input(\"2Digie la operación\"))\n",
    "if op == \"+\":\n",
    "    print(a + b)\n",
    "elif op == \"-\":\n",
    "    print(a - b)\n",
    "elif op == \"*\":\n",
    "    print(a * b)\n",
    "elif op == \"/\":\n",
    "    print(a / b)\n",
    "elif op == \"//\":\n",
    "    print(a // b)\n",
    "elif op == \"%\":\n",
    "    print(a % b)\n",
    "elif op == \"**\":\n",
    "    print(a ** b)\n",
    "else:\n",
    "    print(\"Operación no reconocida\")\n",
    "    \n"
   ]
  }
 ],
 "metadata": {
  "kernelspec": {
   "display_name": "Python 3",
   "language": "python",
   "name": "python3"
  },
  "language_info": {
   "codemirror_mode": {
    "name": "ipython",
    "version": 3
   },
   "file_extension": ".py",
   "mimetype": "text/x-python",
   "name": "python",
   "nbconvert_exporter": "python",
   "pygments_lexer": "ipython3",
   "version": "3.13.7"
  }
 },
 "nbformat": 4,
 "nbformat_minor": 5
}
