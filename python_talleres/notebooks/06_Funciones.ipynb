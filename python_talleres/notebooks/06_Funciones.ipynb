{
 "cells": [
  {
   "cell_type": "markdown",
   "metadata": {},
   "source": [
    "# 6) Funciones\n",
    "\n",
    "## ¿Qué son?\n",
    "Bloques reutilizables de código que **reciben parámetros** y **devuelven resultados**.\n",
    "\n",
    "## ¿Para qué se usan?\n",
    "Para **encapsular lógica**, evitar duplicación y mejorar claridad y pruebas.\n",
    "\n",
    "## Ideas clave\n",
    "- `def nombre(param...) -> retorno`\n",
    "- Valores por defecto, *docstrings*, pruebas simples\n",
    "- Ámbito: variables locales vs globales\n"
   ]
  },
  {
   "cell_type": "code",
   "execution_count": 1,
   "metadata": {},
   "outputs": [
    {
     "name": "stdout",
     "output_type": "stream",
     "text": [
      "Hola, Ada!\n",
      "Potencia: 9 32\n"
     ]
    }
   ],
   "source": [
    "def saluda(nombre: str) -> str:\n",
    "    \"\"\"Devuelve un saludo personalizado.\"\"\"\n",
    "    return f\"Hola, {nombre}!\"\n",
    "\n",
    "def potencia(base: float, exp: int = 2) -> float:\n",
    "    return base ** exp\n",
    "\n",
    "print(saluda(\"Ada\"))\n",
    "print(\"Potencia:\", potencia(3), potencia(2, 5))\n"
   ]
  },
  {
   "cell_type": "markdown",
   "metadata": {},
   "source": [
    "### Ejercicios\n",
    "- E1: `suma(a,b)` y `es_par(n)`.\n",
    "- E2: `promedio(numeros: list[float]) -> float`.\n",
    "- E3: `normaliza_nombre(s)`: quita espacios y capitaliza.\n",
    "\n",
    "### Reto extra\n",
    "`filtra_mayores(lista, umbral)` y `transforma(lista, f)` (simulan `filter`/`map`).\n"
   ]
  },
  {
   "cell_type": "code",
   "execution_count": null,
   "id": "091bd086",
   "metadata": {},
   "outputs": [],
   "source": [
    "def suma (a,b):\n",
    " c= a+b\n",
    " if c % 2 ==0:\n",
    "     print(f\"{c} Es par\")\n",
    " else:\n",
    "    print(f\"{c} Es impar\")"
   ]
  },
  {
   "cell_type": "code",
   "execution_count": 7,
   "metadata": {},
   "outputs": [
    {
     "name": "stdout",
     "output_type": "stream",
     "text": [
      "Promedio de [1,2,3]: 2.0\n"
     ]
    }
   ],
   "source": [
    "def promedio(nums: list[float]) -> float:\n",
    "    return sum(nums) / len(nums) if nums else 0.0\n",
    "\n",
    "print(\"Promedio de [1,2,3]:\", promedio([1,2,3]))\n"
   ]
  },
  {
   "cell_type": "code",
   "execution_count": null,
   "id": "fb35dec3",
   "metadata": {},
   "outputs": [
    {
     "name": "stdout",
     "output_type": "stream",
     "text": [
      "Juan\n",
      "Ana\n"
     ]
    }
   ],
   "source": [
    "def normaliza_nombre(s: str) -> str:\n",
    "    return s.strip().capitalize()\n",
    "\n",
    "print(normaliza_nombre(\"Juan\"))  \n",
    "print(normaliza_nombre(\"Ana\"))      \n"
   ]
  }
 ],
 "metadata": {
  "kernelspec": {
   "display_name": "Python 3",
   "language": "python",
   "name": "python3"
  },
  "language_info": {
   "codemirror_mode": {
    "name": "ipython",
    "version": 3
   },
   "file_extension": ".py",
   "mimetype": "text/x-python",
   "name": "python",
   "nbconvert_exporter": "python",
   "pygments_lexer": "ipython3",
   "version": "3.13.7"
  }
 },
 "nbformat": 4,
 "nbformat_minor": 5
}
