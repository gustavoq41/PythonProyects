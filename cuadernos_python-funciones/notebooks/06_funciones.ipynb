{
 "cells": [
  {
   "cell_type": "markdown",
   "id": "d73f5cdb",
   "metadata": {},
   "source": [
    "# 06 - Funciones\n",
    "\n",
    "> Colección de cuadernos didácticos de Python (VS Code)."
   ]
  },
  {
   "cell_type": "code",
   "execution_count": 7,
   "id": "86c6a947",
   "metadata": {},
   "outputs": [],
   "source": [
    "import sys\n",
    "import os\n",
    "\n",
    "# Agrega la ruta raíz del proyecto al path\n",
    "sys.path.append(os.path.abspath(\"../src\"))\n",
    "\n",
    "from mis_funciones import *\n"
   ]
  },
  {
   "cell_type": "code",
   "execution_count": 13,
   "id": "136c9961",
   "metadata": {},
   "outputs": [
    {
     "name": "stdout",
     "output_type": "stream",
     "text": [
      "Hola, Ana\n",
      "Buenos días, Luis\n"
     ]
    }
   ],
   "source": [
    "print(saludar_uno(\"Ana\"))\n",
    "print(saludar_uno(nombre=\"Luis\", saludo=\"Buenos días\"))"
   ]
  },
  {
   "cell_type": "markdown",
   "id": "d6acc40a",
   "metadata": {},
   "source": [
    "## Definición y llamada de funciones\n",
    "- Parámetros posicionales y con nombre; valores por defecto."
   ]
  },
  {
   "cell_type": "code",
   "execution_count": 12,
   "id": "e96330e3",
   "metadata": {},
   "outputs": [
    {
     "name": "stdout",
     "output_type": "stream",
     "text": [
      "Hola, Ana\n",
      "Buenos días, Luis\n"
     ]
    }
   ],
   "source": [
    "def saludar_uno(nombre: str, saludo: str = \"Hola\") -> str:\n",
    "    \"\"\"Devuelve un saludo personalizado.\n",
    "    \n",
    "    Args:\n",
    "        nombre: Nombre de la persona a saludar.\n",
    "        saludo: Texto del saludo.\n",
    "    \"\"\"\n",
    "    return f\"{saludo}, {nombre}\"\n",
    "\n",
    "print(saludar_uno(\"Ana\"))\n",
    "print(saludar(nombre=\"Luis\", saludo=\"Buenos días\"))\n"
   ]
  },
  {
   "cell_type": "markdown",
   "id": "8ec2a2fd",
   "metadata": {},
   "source": [
    "## `*args`, `**kwargs` y argumentos solo por palabra clave"
   ]
  },
  {
   "cell_type": "code",
   "execution_count": null,
   "id": "6f20b2f3",
   "metadata": {},
   "outputs": [],
   "source": [
    "def registrar_evento(mensaje: str, *, severidad: str = \"info\", **metadatos) -> dict:\n",
    "    evento = {\"mensaje\": mensaje, \"severidad\": severidad}\n",
    "    evento.update(metadatos)\n",
    "    return evento\n",
    "\n",
    "print(registrar_evento(\"Usuario autenticado\", severidad=\"debug\", usuario=\"ana\", intentos=1))\n"
   ]
  },
  {
   "cell_type": "markdown",
   "id": "fbfa74d3",
   "metadata": {},
   "source": [
    "## Anotaciones de tipo y validación ligera"
   ]
  },
  {
   "cell_type": "code",
   "execution_count": null,
   "id": "a8710e40",
   "metadata": {},
   "outputs": [],
   "source": [
    "from typing import Iterable\n",
    "\n",
    "def sumar_todos(numeros: Iterable[int]) -> int:\n",
    "    total = 0\n",
    "    for numero in numeros:\n",
    "        total += int(numero)\n",
    "    return total\n",
    "\n",
    "print(sumar_todos([1, 2, 3]))\n"
   ]
  },
  {
   "cell_type": "markdown",
   "id": "9c6c4cb5",
   "metadata": {},
   "source": [
    "## Alcance, cierres (*closures*) y `nonlocal`"
   ]
  },
  {
   "cell_type": "code",
   "execution_count": null,
   "id": "0c629097",
   "metadata": {},
   "outputs": [],
   "source": [
    "def crear_sumador(incremento: int):\n",
    "    acumulado = 0\n",
    "    def sumar(valor: int) -> int:\n",
    "        nonlocal acumulado\n",
    "        acumulado += valor + incremento\n",
    "        return acumulado\n",
    "    return sumar\n",
    "\n",
    "sumar_con_incremento = crear_sumador(2)\n",
    "print(sumar_con_incremento(3), sumar_con_incremento(5))\n"
   ]
  },
  {
   "cell_type": "markdown",
   "id": "38612e0b",
   "metadata": {},
   "source": [
    "## Funciones anidadas y `lambda`"
   ]
  },
  {
   "cell_type": "code",
   "execution_count": null,
   "id": "ad035a4d",
   "metadata": {},
   "outputs": [],
   "source": [
    "def aplicar(doble_funcion, valores):\n",
    "    return [doble_funcion(valor) for valor in valores]\n",
    "\n",
    "resultado = aplicar(lambda x: x * 2, [1, 2, 3])\n",
    "print(resultado)\n"
   ]
  },
  {
   "cell_type": "markdown",
   "id": "81ed1093",
   "metadata": {},
   "source": [
    "## Decoradores (introducción)"
   ]
  },
  {
   "cell_type": "code",
   "execution_count": null,
   "id": "67907749",
   "metadata": {},
   "outputs": [],
   "source": [
    "from functools import wraps\n",
    "from time import perf_counter\n",
    "\n",
    "def medir(funcion):\n",
    "    @wraps(funcion)\n",
    "    def envoltura(*args, **kwargs):\n",
    "        inicio = perf_counter()\n",
    "        resultado = funcion(*args, **kwargs)\n",
    "        fin = perf_counter()\n",
    "        print(f\"{funcion.__name__} tardó {fin - inicio:.6f}s\")\n",
    "        return resultado\n",
    "    return envoltura\n",
    "\n",
    "@medir\n",
    "def calcular_suma_hasta(n: int) -> int:\n",
    "    return sum(range(n))\n",
    "\n",
    "calcular_suma_hasta(1000000)\n"
   ]
  },
  {
   "cell_type": "markdown",
   "id": "22a3e406",
   "metadata": {},
   "source": [
    "## Docstrings y pruebas ligeras con `assert`"
   ]
  },
  {
   "cell_type": "code",
   "execution_count": null,
   "id": "4e5192b3",
   "metadata": {},
   "outputs": [],
   "source": [
    "def es_palindromo(texto: str) -> bool:\n",
    "    \"\"\"Determina si *texto* es un palíndromo, ignorando espacios y mayúsculas.\n",
    "    \n",
    "    Ejemplos:\n",
    "        >>> es_palindromo(\"Anita lava la tina\")\n",
    "        True\n",
    "    \"\"\"\n",
    "    normalizado = ''.join(caracter.lower() for caracter in texto if caracter.isalnum())\n",
    "    return normalizado == normalizado[::-1]\n",
    "\n",
    "assert es_palindromo(\"Anita lava la tina\") is True\n",
    "assert es_palindromo(\"Python\") is False\n",
    "print(\"Pruebas superadas\")\n"
   ]
  },
  {
   "cell_type": "markdown",
   "id": "ab298a4f",
   "metadata": {},
   "source": [
    "## Ejercicios\n",
    "1. Escribe un decorador `memoizar` para funciones puras.\n",
    "2. Implementa `promedio(*valores)` con manejo de errores y tipos."
   ]
  },
  {
   "cell_type": "code",
   "execution_count": 2,
   "id": "f883257e",
   "metadata": {},
   "outputs": [
    {
     "name": "stdout",
     "output_type": "stream",
     "text": [
      "832040\n"
     ]
    }
   ],
   "source": [
    "# Punto de partida para el ejercicio 1\n",
    "from functools import wraps\n",
    "\n",
    "def memoizar(funcion):\n",
    "    cache = {}\n",
    "    @wraps(funcion)\n",
    "    def envoltura(*args):\n",
    "        if args in cache:   \n",
    "            return cache[args]\n",
    "        resultado = funcion(*args)\n",
    "        cache[args] = resultado    \n",
    "        return resultado\n",
    "    return envoltura\n",
    "\n",
    "@memoizar\n",
    "def fibonacci(n: int) -> int:\n",
    "    if n < 2:\n",
    "        return n\n",
    "    return fibonacci(n - 1) + fibonacci(n - 2)\n",
    "\n",
    "print(fibonacci(30))\n"
   ]
  },
  {
   "cell_type": "code",
   "execution_count": 7,
   "id": "3c62f34a",
   "metadata": {},
   "outputs": [
    {
     "name": "stdout",
     "output_type": "stream",
     "text": [
      "2.0\n",
      "5.0\n",
      "7.5\n"
     ]
    }
   ],
   "source": [
    "def promedio(*valores):\n",
    "   \n",
    "   \n",
    "    if not valores:\n",
    "        raise ValueError(\"Se requieren al menos un valor para calcular el promedio.\")\n",
    "\n",
    "    \n",
    "    if len(valores) == 1 and isinstance(valores[0], (list, tuple)):\n",
    "        datos = valores[0]\n",
    "    else:\n",
    "        datos = valores\n",
    "\n",
    "    if not datos:\n",
    "        raise ValueError(\"El iterable pasado está vacío.\")\n",
    "\n",
    "   \n",
    "    total = 0.0\n",
    "    for v in datos:\n",
    "        if not isinstance(v, (int, float)):\n",
    "            raise TypeError(f\"Valor no numérico detectado: {v!r}\")\n",
    "        total += v\n",
    "\n",
    "    return total / len(datos)\n",
    "print(promedio(1, 2, 3))         \n",
    "print(promedio([4, 5, 6]))       \n",
    "print(promedio(10.5, 4.5))       "
   ]
  }
 ],
 "metadata": {
  "kernelspec": {
   "display_name": "Python 3",
   "language": "python",
   "name": "python3"
  },
  "language_info": {
   "codemirror_mode": {
    "name": "ipython",
    "version": 3
   },
   "file_extension": ".py",
   "mimetype": "text/x-python",
   "name": "python",
   "nbconvert_exporter": "python",
   "pygments_lexer": "ipython3",
   "version": "3.13.7"
  }
 },
 "nbformat": 4,
 "nbformat_minor": 5
}
