{
 "cells": [
  {
   "cell_type": "markdown",
   "id": "d6bc52d9",
   "metadata": {},
   "source": [
    "# 07 - Transmisión de información (I/O)\n",
    "\n",
    "> Colección de cuadernos didácticos de Python (VS Code)."
   ]
  },
  {
   "cell_type": "markdown",
   "id": "71876ea2",
   "metadata": {},
   "source": [
    "## `print` y formato de cadenas\n",
    "- f-strings (Python 3.6+), `str.format`, `%` (antiguo)."
   ]
  },
  {
   "cell_type": "code",
   "execution_count": null,
   "id": "b53fb9ba",
   "metadata": {},
   "outputs": [],
   "source": [
    "nombre = \"Alonso\"\n",
    "creditos = 4\n",
    "print(f\"Estudiante: {nombre} — Créditos: {creditos}\")\n",
    "print(\"Estudiante: {} — Créditos: {}\".format(nombre, creditos))\n"
   ]
  },
  {
   "cell_type": "markdown",
   "id": "87f812e2",
   "metadata": {},
   "source": [
    "## `input` y validación básica"
   ]
  },
  {
   "cell_type": "code",
   "execution_count": null,
   "id": "45a859c1",
   "metadata": {},
   "outputs": [],
   "source": [
    "# Descomenta para probar en modo interactivo\n",
    "# texto = input(\"Escribe un número entero: \")\n",
    "# try:\n",
    "#     numero = int(texto)\n",
    "#     print(\"Doble:\", numero * 2)\n",
    "# except ValueError:\n",
    "#     print(\"Entrada inválida\")\n"
   ]
  },
  {
   "cell_type": "markdown",
   "id": "1bc1f1d6",
   "metadata": {},
   "source": [
    "## Archivos: leer y escribir con contexto"
   ]
  },
  {
   "cell_type": "code",
   "execution_count": null,
   "id": "5e501894",
   "metadata": {},
   "outputs": [],
   "source": [
    "from pathlib import Path\n",
    "\n",
    "ruta = Path(\"datos.txt\")\n",
    "with ruta.open(\"w\", encoding=\"utf-8\") as archivo:\n",
    "    archivo.write(\"linea uno\\nlinea dos\\n\")\n",
    "\n",
    "with ruta.open(\"r\", encoding=\"utf-8\") as archivo:\n",
    "    contenido = archivo.read()\n",
    "\n",
    "print(contenido)\n"
   ]
  },
  {
   "cell_type": "markdown",
   "id": "20d86b5a",
   "metadata": {},
   "source": [
    "## CSV y JSON (serialización de datos)"
   ]
  },
  {
   "cell_type": "code",
   "execution_count": null,
   "id": "9b9e3a58",
   "metadata": {},
   "outputs": [],
   "source": [
    "import csv\n",
    "import json\n",
    "from pathlib import Path\n",
    "\n",
    "registros = [\n",
    "    {\"nombre\": \"Ana\", \"edad\": 20},\n",
    "    {\"nombre\": \"Luis\", \"edad\": 22},\n",
    "]\n",
    "\n",
    "ruta_csv = Path(\"estudiantes.csv\")\n",
    "with ruta_csv.open(\"w\", encoding=\"utf-8\", newline=\"\") as archivo:\n",
    "    escritor = csv.DictWriter(archivo, fieldnames=[\"nombre\", \"edad\"])\n",
    "    escritor.writeheader()\n",
    "    escritor.writerows(registros)\n",
    "\n",
    "ruta_json = Path(\"estudiantes.json\")\n",
    "with ruta_json.open(\"w\", encoding=\"utf-8\") as archivo:\n",
    "    json.dump(registros, archivo, ensure_ascii=False, indent=2)\n",
    "\n",
    "print(\"Archivos CSV y JSON escritos\")\n"
   ]
  },
  {
   "cell_type": "markdown",
   "id": "0716807f",
   "metadata": {},
   "source": [
    "## Argumentos de línea de comandos: `sys.argv` y `argparse` (breve)"
   ]
  },
  {
   "cell_type": "code",
   "execution_count": null,
   "id": "427302b3",
   "metadata": {},
   "outputs": [],
   "source": [
    "# Ejemplo mínimo con argparse\n",
    "import argparse\n",
    "\n",
    "def crear_argumentos():\n",
    "    parser = argparse.ArgumentParser(description=\"Ejemplo sencillo de CLI\")\n",
    "    parser.add_argument(\"--nombre\", default=\"Mundo\")\n",
    "    return parser\n",
    "\n",
    "# En un script real:\n",
    "# parser = crear_argumentos()\n",
    "# args = parser.parse_args()\n",
    "# print(f\"Hola, {args.nombre}\")\n"
   ]
  },
  {
   "cell_type": "markdown",
   "id": "056bf7b5",
   "metadata": {},
   "source": [
    "## Registro de eventos (`logging`)"
   ]
  },
  {
   "cell_type": "code",
   "execution_count": null,
   "id": "f3139376",
   "metadata": {},
   "outputs": [],
   "source": [
    "import logging\n",
    "\n",
    "logging.basicConfig(level=logging.INFO, format=\"%(levelname)s:%(message)s\")\n",
    "logger = logging.getLogger(\"aplicacion\")\n",
    "\n",
    "logger.info(\"Aplicación iniciada\")\n",
    "logger.warning(\"Este es un aviso\")\n",
    "logger.error(\"Este es un error simulado\")\n"
   ]
  },
  {
   "cell_type": "markdown",
   "id": "1376dccf",
   "metadata": {},
   "source": [
    "## Ejercicios\n",
    "1. Escribe un script que lea `estudiantes.csv` y calcule el promedio de edad.\n",
    "2. Crea una CLI que convierta un archivo JSON a CSV con opciones `--entrada` y `--salida`. "
   ]
  },
  {
   "cell_type": "code",
   "execution_count": 2,
   "id": "29c28ae1",
   "metadata": {},
   "outputs": [
    {
     "ename": "FileNotFoundError",
     "evalue": "[Errno 2] No such file or directory: 'estudiantes.csv'",
     "output_type": "error",
     "traceback": [
      "\u001b[31m---------------------------------------------------------------------------\u001b[39m",
      "\u001b[31mFileNotFoundError\u001b[39m                         Traceback (most recent call last)",
      "\u001b[36mCell\u001b[39m\u001b[36m \u001b[39m\u001b[32mIn[2]\u001b[39m\u001b[32m, line 20\u001b[39m\n\u001b[32m     17\u001b[39m         total += v\n\u001b[32m     18\u001b[39m     \u001b[38;5;28;01mreturn\u001b[39;00m total / \u001b[38;5;28mlen\u001b[39m(datos)\n\u001b[32m---> \u001b[39m\u001b[32m20\u001b[39m \u001b[38;5;28;01mwith\u001b[39;00m \u001b[38;5;28;43mopen\u001b[39;49m\u001b[43m(\u001b[49m\u001b[33;43m\"\u001b[39;49m\u001b[33;43mestudiantes.csv\u001b[39;49m\u001b[33;43m\"\u001b[39;49m\u001b[43m,\u001b[49m\u001b[43m \u001b[49m\u001b[43mnewline\u001b[49m\u001b[43m=\u001b[49m\u001b[33;43m\"\u001b[39;49m\u001b[33;43m\"\u001b[39;49m\u001b[43m,\u001b[49m\u001b[43m \u001b[49m\u001b[43mencoding\u001b[49m\u001b[43m=\u001b[49m\u001b[33;43m\"\u001b[39;49m\u001b[33;43mutf-8\u001b[39;49m\u001b[33;43m\"\u001b[39;49m\u001b[43m)\u001b[49m \u001b[38;5;28;01mas\u001b[39;00m archivo:\n\u001b[32m     21\u001b[39m     lector = csv.DictReader(archivo)\n\u001b[32m     22\u001b[39m     edades = [\u001b[38;5;28mint\u001b[39m(fila[\u001b[33m\"\u001b[39m\u001b[33medad\u001b[39m\u001b[33m\"\u001b[39m]) \u001b[38;5;28;01mfor\u001b[39;00m fila \u001b[38;5;129;01min\u001b[39;00m lector]\n",
      "\u001b[36mFile \u001b[39m\u001b[32m~\\AppData\\Roaming\\Python\\Python313\\site-packages\\IPython\\core\\interactiveshell.py:343\u001b[39m, in \u001b[36m_modified_open\u001b[39m\u001b[34m(file, *args, **kwargs)\u001b[39m\n\u001b[32m    336\u001b[39m \u001b[38;5;28;01mif\u001b[39;00m file \u001b[38;5;129;01min\u001b[39;00m {\u001b[32m0\u001b[39m, \u001b[32m1\u001b[39m, \u001b[32m2\u001b[39m}:\n\u001b[32m    337\u001b[39m     \u001b[38;5;28;01mraise\u001b[39;00m \u001b[38;5;167;01mValueError\u001b[39;00m(\n\u001b[32m    338\u001b[39m         \u001b[33mf\u001b[39m\u001b[33m\"\u001b[39m\u001b[33mIPython won\u001b[39m\u001b[33m'\u001b[39m\u001b[33mt let you open fd=\u001b[39m\u001b[38;5;132;01m{\u001b[39;00mfile\u001b[38;5;132;01m}\u001b[39;00m\u001b[33m by default \u001b[39m\u001b[33m\"\u001b[39m\n\u001b[32m    339\u001b[39m         \u001b[33m\"\u001b[39m\u001b[33mas it is likely to crash IPython. If you know what you are doing, \u001b[39m\u001b[33m\"\u001b[39m\n\u001b[32m    340\u001b[39m         \u001b[33m\"\u001b[39m\u001b[33myou can use builtins\u001b[39m\u001b[33m'\u001b[39m\u001b[33m open.\u001b[39m\u001b[33m\"\u001b[39m\n\u001b[32m    341\u001b[39m     )\n\u001b[32m--> \u001b[39m\u001b[32m343\u001b[39m \u001b[38;5;28;01mreturn\u001b[39;00m \u001b[43mio_open\u001b[49m\u001b[43m(\u001b[49m\u001b[43mfile\u001b[49m\u001b[43m,\u001b[49m\u001b[43m \u001b[49m\u001b[43m*\u001b[49m\u001b[43margs\u001b[49m\u001b[43m,\u001b[49m\u001b[43m \u001b[49m\u001b[43m*\u001b[49m\u001b[43m*\u001b[49m\u001b[43mkwargs\u001b[49m\u001b[43m)\u001b[49m\n",
      "\u001b[31mFileNotFoundError\u001b[39m: [Errno 2] No such file or directory: 'estudiantes.csv'"
     ]
    }
   ],
   "source": [
    "# Punto de partida para el ejercicio 1\n",
    "import csv\n",
    "\n",
    "def promedio(*valores):\n",
    "    if not valores:\n",
    "        raise ValueError(\"Se requieren valores.\")\n",
    "    if len(valores) == 1 and isinstance(valores[0], (list, tuple)):\n",
    "        datos = valores[0]\n",
    "    else:\n",
    "        datos = valores\n",
    "    if not datos:\n",
    "        raise ValueError(\"El iterable está vacío.\")\n",
    "    total = 0.0\n",
    "    for v in datos:\n",
    "        if not isinstance(v, (int, float)):\n",
    "            raise TypeError(f\"Valor no numérico detectado: {v!r}\")\n",
    "        total += v\n",
    "    return total / len(datos)\n",
    "\n",
    "with open(\"estudiantes.csv\", newline=\"\", encoding=\"utf-8\") as archivo:\n",
    "    lector = csv.DictReader(archivo)\n",
    "    edades = [int(fila[\"edad\"]) for fila in lector]\n",
    "\n",
    "print(\"Promedio de edad:\", promedio(edades))\n"
   ]
  },
  {
   "cell_type": "code",
   "execution_count": 1,
   "id": "88f4d15b",
   "metadata": {},
   "outputs": [
    {
     "name": "stderr",
     "output_type": "stream",
     "text": [
      "usage: ipykernel_launcher.py [-h] --entrada ENTRADA --salida SALIDA\n",
      "ipykernel_launcher.py: error: the following arguments are required: --entrada, --salida\n"
     ]
    },
    {
     "ename": "SystemExit",
     "evalue": "2",
     "output_type": "error",
     "traceback": [
      "An exception has occurred, use %tb to see the full traceback.\n",
      "\u001b[31mSystemExit\u001b[39m\u001b[31m:\u001b[39m 2\n"
     ]
    },
    {
     "name": "stderr",
     "output_type": "stream",
     "text": [
      "C:\\Users\\pc\\AppData\\Roaming\\Python\\Python313\\site-packages\\IPython\\core\\interactiveshell.py:3707: UserWarning: To exit: use 'exit', 'quit', or Ctrl-D.\n",
      "  warn(\"To exit: use 'exit', 'quit', or Ctrl-D.\", stacklevel=1)\n"
     ]
    }
   ],
   "source": [
    "import json\n",
    "import csv\n",
    "import argparse\n",
    "\n",
    "def convertir_json_a_csv(entrada, salida):\n",
    "    with open(entrada, \"r\", encoding=\"utf-8\") as f:\n",
    "        datos = json.load(f)\n",
    "\n",
    "   \n",
    "    if not isinstance(datos, list) or not all(isinstance(d, dict) for d in datos):\n",
    "        raise ValueError(\"El JSON debe ser una lista de objetos (diccionarios).\")\n",
    "\n",
    "   \n",
    "    with open(salida, \"w\", newline=\"\", encoding=\"utf-8\") as f:\n",
    "        campos = datos[0].keys()\n",
    "        escritor = csv.DictWriter(f, fieldnames=campos)\n",
    "        escritor.writeheader()\n",
    "        escritor.writerows(datos)\n",
    "\n",
    "if __name__ == \"__main__\":\n",
    "    parser = argparse.ArgumentParser(description=\"Convertir JSON a CSV\")\n",
    "    parser.add_argument(\"--entrada\", required=True, help=\"Archivo JSON de entrada\")\n",
    "    parser.add_argument(\"--salida\", required=True, help=\"Archivo CSV de salida\")\n",
    "    args = parser.parse_args()\n",
    "\n",
    "    convertir_json_a_csv(args.entrada, args.salida)\n",
    "    print(f\"Archivo convertido: {args.salida}\")\n"
   ]
  }
 ],
 "metadata": {
  "kernelspec": {
   "display_name": "Python 3",
   "language": "python",
   "name": "python3"
  },
  "language_info": {
   "codemirror_mode": {
    "name": "ipython",
    "version": 3
   },
   "file_extension": ".py",
   "mimetype": "text/x-python",
   "name": "python",
   "nbconvert_exporter": "python",
   "pygments_lexer": "ipython3",
   "version": "3.13.7"
  }
 },
 "nbformat": 4,
 "nbformat_minor": 5
}
