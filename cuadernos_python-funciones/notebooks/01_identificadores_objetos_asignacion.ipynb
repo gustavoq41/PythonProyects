{
 "cells": [
  {
   "cell_type": "markdown",
   "id": "e3371750",
   "metadata": {},
   "source": [
    "# 01 - Identificadores, objetos y asignación\n",
    "\n",
    "> Colección de cuadernos didácticos de Python (VS Code)."
   ]
  },
  {
   "cell_type": "markdown",
   "id": "d90e36fb",
   "metadata": {},
   "source": [
    "## Identificadores y convenciones PEP 8\n",
    "- Un **identificador** es el nombre de una variable, función, clase o módulo.\n",
    "- Estilo PEP 8: `snake_case` para variables y funciones; `CapWords` para clases; constantes en `MAYÚSCULAS_CON_GUIONES_BAJOS`.\n",
    "- Evita abreviaturas crípticas: usa **palabras completas en español**.\n"
   ]
  },
  {
   "cell_type": "code",
   "execution_count": 6,
   "id": "c3cce772",
   "metadata": {},
   "outputs": [
    {
     "name": "stdout",
     "output_type": "stream",
     "text": [
      "Hola, Alonso!\n"
     ]
    }
   ],
   "source": [
    "import sys\n",
    "import os\n",
    "\n",
    "# Agrega la ruta raíz del proyecto al path\n",
    "sys.path.append(os.path.abspath(\"../src\"))\n",
    "\n",
    "from mis_funciones import saludar\n",
    "\n",
    "saludo = saludar(\"Alonso\")\n",
    "print(saludo)"
   ]
  },
  {
   "cell_type": "code",
   "execution_count": null,
   "id": "edabf9e0",
   "metadata": {},
   "outputs": [],
   "source": [
    "# Ejemplos de identificadores válidos siguiendo PEP8\n",
    "nombre_completo = \"Ada Lovelace\"\n",
    "numero_de_estudiantes = 42\n",
    "PI_APROXIMADA = 3.14159\n",
    "\n",
    "print(nombre_completo)\n",
    "print(numero_de_estudiantes)\n",
    "print(PI_APROXIMADA)\n"
   ]
  },
  {
   "cell_type": "markdown",
   "id": "05cbe5a4",
   "metadata": {},
   "source": [
    "## Objetos, tipos e identidad\n",
    "- **Todo en Python es un objeto** con un **tipo** y una **identidad**.\n",
    "- `id(objeto)` devuelve un entero que representa su identidad (dirección lógica).\n",
    "- `is` compara **identidad**; `==` compara **igualdad de valor**."
   ]
  },
  {
   "cell_type": "code",
   "execution_count": null,
   "id": "bd1bab56",
   "metadata": {},
   "outputs": [],
   "source": [
    "valor_a = [1, 2, 3]\n",
    "valor_b = [1, 2, 3]\n",
    "mismo_alias = valor_a\n",
    "\n",
    "print(valor_a == valor_b)   # igualdad de valor\n",
    "print(valor_a is valor_b)   # identidad distinta\n",
    "print(valor_a is mismo_alias)  # identidad igual\n",
    "print(type(valor_a), id(valor_a))\n"
   ]
  },
  {
   "cell_type": "markdown",
   "id": "cfbf6bed",
   "metadata": {},
   "source": [
    "## Mutabilidad vs. inmutabilidad\n",
    "- Tipos **inmutables**: `int`, `float`, `bool`, `str`, `tuple`, `frozenset`.\n",
    "- Tipos **mutables**: `list`, `dict`, `set`, `bytearray`.\n",
    "Cambiar un objeto mutable **no** cambia su identidad; cambiar un inmutable crea otro objeto."
   ]
  },
  {
   "cell_type": "code",
   "execution_count": null,
   "id": "52f9d7a8",
   "metadata": {},
   "outputs": [],
   "source": [
    "texto = \"hola\"\n",
    "print(id(texto))\n",
    "texto = texto + \" mundo\"  # crea un nuevo str\n",
    "print(id(texto))\n",
    "\n",
    "lista = [1, 2, 3]\n",
    "print(id(lista))\n",
    "lista.append(4)  # muta en el mismo objeto\n",
    "print(id(lista))\n"
   ]
  },
  {
   "cell_type": "markdown",
   "id": "092d353c",
   "metadata": {},
   "source": [
    "## Asignación, desempaquetado y aliasing\n",
    "- La **asignación** enlaza un nombre a un objeto.\n",
    "- El **desempaquetado** reparte elementos de una secuencia en nombres.\n",
    "- El **aliasing** ocurre cuando dos nombres apuntan al mismo objeto mutable."
   ]
  },
  {
   "cell_type": "code",
   "execution_count": null,
   "id": "81f474bc",
   "metadata": {},
   "outputs": [],
   "source": [
    "# Asignación múltiple y desempaquetado\n",
    "x, y, z = (10, 20, 30)\n",
    "print(x, y, z)\n",
    "\n",
    "# Aliasing con mutables\n",
    "datos_originales = {\"curso\": \"Python\", \"creditos\": 3}\n",
    "mismo_diccionario = datos_originales      # alias\n",
    "mismo_diccionario[\"creditos\"] = 4\n",
    "print(datos_originales)  # también cambia\n"
   ]
  },
  {
   "cell_type": "markdown",
   "id": "462508ba",
   "metadata": {},
   "source": [
    "## Alcance (LEGB): Local, Enclosing, Global, Builtins\n",
    "- Python resuelve nombres siguiendo el orden **LEGB**.\n",
    "- `global` expone un nombre a nivel de módulo; `nonlocal` lo hace al alcance intermedio."
   ]
  },
  {
   "cell_type": "code",
   "execution_count": 7,
   "id": "a25fb373",
   "metadata": {},
   "outputs": [
    {
     "name": "stdout",
     "output_type": "stream",
     "text": [
      "1 2\n",
      "1 2\n"
     ]
    }
   ],
   "source": [
    "contador_global = 0\n",
    "\n",
    "def fabrique_contador():\n",
    "    conteo = 0\n",
    "    def incrementar():\n",
    "        nonlocal conteo\n",
    "        conteo += 1\n",
    "        return conteo\n",
    "    return incrementar\n",
    "\n",
    "incrementar_local = fabrique_contador()\n",
    "print(incrementar_local(), incrementar_local())\n",
    "\n",
    "def incrementar_global():\n",
    "    global contador_global\n",
    "    contador_global += 1\n",
    "    return contador_global\n",
    "\n",
    "print(incrementar_global(), incrementar_global())\n"
   ]
  },
  {
   "cell_type": "markdown",
   "id": "11c89ed5",
   "metadata": {},
   "source": [
    "## Recolección de basura y conteo de referencias\n",
    "- Python gestiona memoria con **conteo de referencias** y un **colector de ciclos**.\n",
    "- Puedes observar (orientativo) con `sys.getrefcount`."
   ]
  },
  {
   "cell_type": "code",
   "execution_count": 8,
   "id": "708b271a",
   "metadata": {},
   "outputs": [
    {
     "name": "stdout",
     "output_type": "stream",
     "text": [
      "Referencias: 2\n"
     ]
    }
   ],
   "source": [
    "#import sys\n",
    "valor = []\n",
    "print(\"Referencias:\", sys.getrefcount(valor))  # incluye la referencia temporal del argumento\n"
   ]
  },
  {
   "cell_type": "markdown",
   "id": "f616fd77",
   "metadata": {},
   "source": [
    "## Ejercicios guiados\n",
    "1. Explica por qué `a is b` puede ser `False` aunque `a == b` sea `True`.\n",
    "2. Crea un ejemplo de aliasing con listas y evita efectos colaterales usando `list()` o `copy()`.\n",
    "3. Implementa una función `contador()` que recuerde su estado entre llamadas sin usar globales."
   ]
  },
  {
   "cell_type": "code",
   "execution_count": null,
   "id": "10db2206",
   "metadata": {},
   "outputs": [
    {
     "name": "stdout",
     "output_type": "stream",
     "text": [
      "True\n",
      "False\n",
      "Aunque las dos listas contengan lo mismo, se crean dos objetos distintos, por eso is da false\n"
     ]
    }
   ],
   "source": [
    "a = [1, 2, 3]\n",
    "b = [1, 2, 3]\n",
    "print(a == b)  \n",
    "print(a is b)  \n",
    "print(\"Aunque las dos listas contengan lo mismo, se crean dos objetos distintos, por eso is da false\")"
   ]
  },
  {
   "cell_type": "code",
   "execution_count": 6,
   "id": "dfbb2958",
   "metadata": {},
   "outputs": [
    {
     "name": "stdout",
     "output_type": "stream",
     "text": [
      "a [1, 2, 3]\n",
      "b [1, 2, 3, 4]\n",
      "False\n"
     ]
    }
   ],
   "source": [
    "a = [1, 2, 3]\n",
    "b = list(a)\n",
    "b.append(4)   \n",
    "print(f\"a {a}\")  \n",
    "print(f\"b {b}\")  \n",
    "print(a is b)  \n"
   ]
  },
  {
   "cell_type": "code",
   "execution_count": 7,
   "id": "866f55e0",
   "metadata": {},
   "outputs": [
    {
     "name": "stdout",
     "output_type": "stream",
     "text": [
      "Pruebas del contador superadas\n"
     ]
    }
   ],
   "source": [
    "# Punto de partida para el ejercicio 3\n",
    "def crear_contador():\n",
    "    conteo = 0\n",
    "    def siguiente():\n",
    "        nonlocal conteo\n",
    "        conteo += 1\n",
    "        return conteo\n",
    "    return siguiente\n",
    "\n",
    "contador = crear_contador()\n",
    "assert contador() == 1\n",
    "assert contador() == 2\n",
    "print(\"Pruebas del contador superadas\")\n"
   ]
  }
 ],
 "metadata": {
  "kernelspec": {
   "display_name": "Python 3",
   "language": "python",
   "name": "python3"
  },
  "language_info": {
   "codemirror_mode": {
    "name": "ipython",
    "version": 3
   },
   "file_extension": ".py",
   "mimetype": "text/x-python",
   "name": "python",
   "nbconvert_exporter": "python",
   "pygments_lexer": "ipython3",
   "version": "3.13.7"
  }
 },
 "nbformat": 4,
 "nbformat_minor": 5
}
