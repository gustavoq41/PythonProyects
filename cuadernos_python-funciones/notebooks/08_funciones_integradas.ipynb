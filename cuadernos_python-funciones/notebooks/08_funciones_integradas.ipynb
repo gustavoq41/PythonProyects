{
 "cells": [
  {
   "cell_type": "markdown",
   "id": "c727ad3a",
   "metadata": {},
   "source": [
    "# 08 - Funciones integradas de Python\n",
    "\n",
    "> Colección de cuadernos didácticos de Python (VS Code)."
   ]
  },
  {
   "cell_type": "markdown",
   "id": "5d29f6b7",
   "metadata": {},
   "source": [
    "## Inspección y ayuda: `type`, `isinstance`, `id`, `dir`, `help`, `vars`"
   ]
  },
  {
   "cell_type": "code",
   "execution_count": null,
   "id": "0cd3fe6e",
   "metadata": {},
   "outputs": [],
   "source": [
    "valor = {\"a\": 1}\n",
    "print(type(valor), isinstance(valor, dict), id(valor))\n",
    "print([nombre for nombre in dir(valor) if not nombre.startswith(\"_\")])\n",
    "# help(dict)  # descomenta para ver ayuda interactiva\n"
   ]
  },
  {
   "cell_type": "markdown",
   "id": "1ee5a82b",
   "metadata": {},
   "source": [
    "## Construcción y conversión: `int`, `float`, `str`, `bool`, `list`, `tuple`, `dict`, `set`"
   ]
  },
  {
   "cell_type": "code",
   "execution_count": null,
   "id": "47ddea7c",
   "metadata": {},
   "outputs": [],
   "source": [
    "dato = \"123\"\n",
    "print(int(dato), float(dato), str(3.14), bool(0), list(\"abc\"), tuple([1, 2]), dict([(\"x\", 1)]), set([1, 1, 2]))\n"
   ]
  },
  {
   "cell_type": "markdown",
   "id": "39c37402",
   "metadata": {},
   "source": [
    "## Iteración y combinación: `range`, `enumerate`, `zip`, `map`, `filter`"
   ]
  },
  {
   "cell_type": "code",
   "execution_count": null,
   "id": "583a63c5",
   "metadata": {},
   "outputs": [],
   "source": [
    "numeros = [1, 2, 3, 4, 5]\n",
    "dobles = list(map(lambda n: n * 2, numeros))\n",
    "pares = list(filter(lambda n: n % 2 == 0, numeros))\n",
    "combinado = list(zip(numeros, dobles))\n",
    "enumerado = list(enumerate(numeros, start=1))\n",
    "print(dobles, pares, combinado, enumerado)\n"
   ]
  },
  {
   "cell_type": "markdown",
   "id": "0604a41e",
   "metadata": {},
   "source": [
    "## Agregación y ordenamiento: `sum`, `min`, `max`, `any`, `all`, `sorted`, `reversed`"
   ]
  },
  {
   "cell_type": "code",
   "execution_count": null,
   "id": "1953b94d",
   "metadata": {},
   "outputs": [],
   "source": [
    "valores = [0, 1, 2, 3]\n",
    "print(sum(valores), min(valores), max(valores))\n",
    "print(any(valores), all([True, 1, \"texto\"]))\n",
    "print(sorted([3, 1, 2]))\n",
    "print(list(reversed([1, 2, 3])))\n"
   ]
  },
  {
   "cell_type": "markdown",
   "id": "b5ca01b8",
   "metadata": {},
   "source": [
    "## Seguridad: evita `eval` y prefiere `ast.literal_eval` cuando corresponda"
   ]
  },
  {
   "cell_type": "code",
   "execution_count": null,
   "id": "0f1f568b",
   "metadata": {},
   "outputs": [],
   "source": [
    "import ast\n",
    "expresion_segura = \"[1, 2, 3]\"\n",
    "resultado = ast.literal_eval(expresion_segura)\n",
    "print(resultado)\n"
   ]
  },
  {
   "cell_type": "markdown",
   "id": "c22518d7",
   "metadata": {},
   "source": [
    "## Ejercicios\n",
    "1. Dado un diccionario de estudiantes y notas, usa `sorted` con `key` para obtener el top 3.\n",
    "2. Reescribe una pieza de código que usa `map`/`filter` con comprensiones equivalentes."
   ]
  },
  {
   "cell_type": "code",
   "execution_count": 1,
   "id": "b798b996",
   "metadata": {},
   "outputs": [
    {
     "name": "stdout",
     "output_type": "stream",
     "text": [
      "Top 3 estudiantes: [('Sofía', 4.8), ('Ana', 4.5), ('Carlos', 4.2)]\n"
     ]
    }
   ],
   "source": [
    "# Sugerencia para el ejercicio 1\n",
    "estudiantes = {\"Ana\": 4.5, \"Luis\": 3.9, \"Sofía\": 4.8, \"Carlos\": 4.2}\n",
    "\n",
    "top = sorted(estudiantes.items(), key=lambda par: par[1], reverse=True)[:3]\n",
    "\n",
    "print(\"Top 3 estudiantes:\", top)\n",
    "\n"
   ]
  },
  {
   "cell_type": "code",
   "execution_count": 2,
   "id": "6ca441e3",
   "metadata": {},
   "outputs": [
    {
     "name": "stdout",
     "output_type": "stream",
     "text": [
      "[4, 8, 12]\n"
     ]
    }
   ],
   "source": [
    "numeros = [1, 2, 3, 4, 5, 6]\n",
    "\n",
    "pares_doblados = list(map(lambda x: x * 2, filter(lambda x: x % 2 == 0, numeros)))\n",
    "print(pares_doblados)\n"
   ]
  }
 ],
 "metadata": {
  "kernelspec": {
   "display_name": "Python 3",
   "language": "python",
   "name": "python3"
  },
  "language_info": {
   "codemirror_mode": {
    "name": "ipython",
    "version": 3
   },
   "file_extension": ".py",
   "mimetype": "text/x-python",
   "name": "python",
   "nbconvert_exporter": "python",
   "pygments_lexer": "ipython3",
   "version": "3.13.7"
  }
 },
 "nbformat": 4,
 "nbformat_minor": 5
}
