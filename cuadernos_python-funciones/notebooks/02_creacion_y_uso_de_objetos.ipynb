{
 "cells": [
  {
   "cell_type": "markdown",
   "id": "d0ceed57",
   "metadata": {},
   "source": [
    "# 02 - Creación y uso de objetos\n",
    "\n",
    "> Colección de cuadernos didácticos de Python (VS Code)."
   ]
  },
  {
   "cell_type": "markdown",
   "id": "57374929",
   "metadata": {},
   "source": [
    "## Literales y constructores\n",
    "- Literales: `10`, `3.14`, `\"texto\"`, `[1, 2]`, `{\"clave\": \"valor\"}`.\n",
    "- Constructores: `int()`, `float()`, `str()`, `list()`, `dict()`, `set()`. "
   ]
  },
  {
   "cell_type": "code",
   "execution_count": null,
   "id": "10e891f2",
   "metadata": {},
   "outputs": [],
   "source": [
    "numero_entero = int(\"42\")\n",
    "texto = str(3.14)\n",
    "lista_desde_rango = list(range(5))\n",
    "conjunto_desde_lista = set([1, 2, 2, 3])\n",
    "\n",
    "print(numero_entero, texto, lista_desde_rango, conjunto_desde_lista)\n"
   ]
  },
  {
   "cell_type": "markdown",
   "id": "5a7a5544",
   "metadata": {},
   "source": [
    "## Conversión de tipos (casting) y coerción\n",
    "- Conversión **explícita** con constructores.\n",
    "- Coerción **implícita** ocurre en expresiones mixtas (p. ej., `int` con `float`)."
   ]
  },
  {
   "cell_type": "code",
   "execution_count": null,
   "id": "8dd23456",
   "metadata": {},
   "outputs": [],
   "source": [
    "resultado_mixto = 5 + 2.0  # int + float -> float\n",
    "print(resultado_mixto, type(resultado_mixto))\n",
    "\n",
    "# Conversión explícita\n",
    "valor_texto = \"123\"\n",
    "valor_numero = int(valor_texto)\n",
    "print(valor_numero, type(valor_numero))\n"
   ]
  },
  {
   "cell_type": "markdown",
   "id": "7f75848d",
   "metadata": {},
   "source": [
    "## Copia: asignación vs. copia superficial vs. copia profunda\n",
    "- Asignar no copia: crea **alias**.\n",
    "- **Copia superficial**: copia el contenedor, comparte referencias internas.\n",
    "- **Copia profunda**: duplica recursivamente todo el contenido."
   ]
  },
  {
   "cell_type": "code",
   "execution_count": null,
   "id": "1915c8a0",
   "metadata": {},
   "outputs": [],
   "source": [
    "import copy\n",
    "\n",
    "matriz = [[1, 2], [3, 4]]\n",
    "alias = matriz\n",
    "copia_superficial = copy.copy(matriz)\n",
    "copia_profunda = copy.deepcopy(matriz)\n",
    "\n",
    "matriz[0][0] = 99\n",
    "print(\"alias:\", alias)\n",
    "print(\"copia_superficial:\", copia_superficial)\n",
    "print(\"copia_profunda:\", copia_profunda)\n"
   ]
  },
  {
   "cell_type": "markdown",
   "id": "42b1cd60",
   "metadata": {},
   "source": [
    "## Context managers (`with`): manejo seguro de recursos\n",
    "- Garantizan liberar recursos aunque haya excepciones.\n",
    "- Implementan `__enter__` y `__exit__`."
   ]
  },
  {
   "cell_type": "code",
   "execution_count": null,
   "id": "b1943fd6",
   "metadata": {},
   "outputs": [],
   "source": [
    "from pathlib import Path\n",
    "\n",
    "ruta_archivo = Path(\"ejemplo.txt\")\n",
    "with ruta_archivo.open(\"w\", encoding=\"utf-8\") as archivo:\n",
    "    archivo.write(\"Hola, contexto seguro\\n\")\n",
    "\n",
    "assert ruta_archivo.exists()\n",
    "print(\"Archivo escrito correctamente\")\n"
   ]
  },
  {
   "cell_type": "markdown",
   "id": "4f8d1228",
   "metadata": {},
   "source": [
    "## Indexación y *slicing*\n",
    "- Secuencias soportan índices positivos/negativos y cortes `inicio:fin:paso`."
   ]
  },
  {
   "cell_type": "code",
   "execution_count": null,
   "id": "e2c126ed",
   "metadata": {},
   "outputs": [],
   "source": [
    "texto = \"Programación\"\n",
    "print(texto[0], texto[-1])\n",
    "print(texto[0:6], texto[::-1])  # inverso\n"
   ]
  },
  {
   "cell_type": "markdown",
   "id": "a0339038",
   "metadata": {},
   "source": [
    "## Ejercicios\n",
    "1. Escribe una función que reciba una lista de listas y devuelva una **copia profunda** sin usar `copy.deepcopy` (usa recursividad).\n",
    "2. Implementa un contexto que mida tiempo de ejecución (`time.perf_counter`)."
   ]
  },
  {
   "cell_type": "code",
   "execution_count": 4,
   "id": "f2590e1d",
   "metadata": {},
   "outputs": [
    {
     "name": "stdout",
     "output_type": "stream",
     "text": [
      "Original [1, [2, 3], [4, [5, 6]], 7]\n",
      "Copia [1, [2, 3], [4, [5, 6]], 7]\n",
      "Después de modificar la copia\n",
      "Original [1, [2, 3], [4, [5, 6]], 7]\n",
      "Copia [1, [2, 3, 99], [4, [5, 6]], 7]\n"
     ]
    }
   ],
   "source": [
    "def lista (obj):\n",
    "    if isinstance(obj, list):\n",
    "        return [lista(elemento) for elemento in obj]\n",
    "    else:\n",
    "        return obj\n",
    "original = [1, [2, 3], [4, [5, 6]], 7]\n",
    "copia = lista (original)\n",
    "print(f\"Original {original}\")\n",
    "print(f\"Copia {copia}\")\n",
    "copia[1].append(99)\n",
    "print(\"Después de modificar la copia\")\n",
    "print(f\"Original {original}\")  \n",
    "print(f\"Copia {copia}\")\n"
   ]
  },
  {
   "cell_type": "code",
   "execution_count": null,
   "id": "27fc1e3e",
   "metadata": {},
   "outputs": [],
   "source": [
    "\n",
    "from time import perf_counter\n",
    "\n",
    "class medir_tiempo:\n",
    "    def __enter__(self):\n",
    "        self.inicio = perf_counter()\n",
    "        return self\n",
    "\n",
    "    def __exit__(self, tipo, valor, traza):\n",
    "        self.fin = perf_counter()\n",
    "        self.duracion = self.fin - self.inicio\n",
    "        print(f\"Duración: {self.duracion:.6f} s\")\n",
    "\n",
    "with medir_tiempo():\n",
    "    suma = sum(range(100000))\n"
   ]
  }
 ],
 "metadata": {
  "kernelspec": {
   "display_name": "Python 3",
   "language": "python",
   "name": "python3"
  },
  "language_info": {
   "codemirror_mode": {
    "name": "ipython",
    "version": 3
   },
   "file_extension": ".py",
   "mimetype": "text/x-python",
   "name": "python",
   "nbconvert_exporter": "python",
   "pygments_lexer": "ipython3",
   "version": "3.13.7"
  }
 },
 "nbformat": 4,
 "nbformat_minor": 5
}
