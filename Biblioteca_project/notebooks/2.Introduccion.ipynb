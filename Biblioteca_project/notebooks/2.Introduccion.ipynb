{
 "cells": [
  {
   "cell_type": "markdown",
   "id": "dc8abbcc",
   "metadata": {},
   "source": [
    "En este proyecto se encontrarán 3 diagramas de UML, uno hecho a papel, otro con una herramienta especializada (draw.io) y uno ultimo hecho con inteligencia artificial (IA).\n",
    "Estos diagramas representan el sistema de préstamo y búsquedas de libros que un usuario realizará al entrar a una biblioteca.\n"
   ]
  }
 ],
 "metadata": {
  "kernelspec": {
   "display_name": "Python 3",
   "language": "python",
   "name": "python3"
  },
  "language_info": {
   "codemirror_mode": {
    "name": "ipython",
    "version": 3
   },
   "file_extension": ".py",
   "mimetype": "text/x-python",
   "name": "python",
   "nbconvert_exporter": "python",
   "pygments_lexer": "ipython3",
   "version": "3.13.7"
  }
 },
 "nbformat": 4,
 "nbformat_minor": 5
}
