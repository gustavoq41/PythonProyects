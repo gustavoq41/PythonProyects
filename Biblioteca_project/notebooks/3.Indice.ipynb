{
 "cells": [
  {
   "cell_type": "markdown",
   "id": "c52b9176",
   "metadata": {},
   "source": [
    "1. Portada\n",
    "2. Introduccion\n",
    "3. Indice\n",
    "4. Diagrama\\_en\\_papel\n",
    "5. Diagrama\\_en\\_programa\n",
    "6. Diagrama\\_de\\_IA\n"
   ]
  }
 ],
 "metadata": {
  "kernelspec": {
   "display_name": "Python 3",
   "language": "python",
   "name": "python3"
  },
  "language_info": {
   "codemirror_mode": {
    "name": "ipython",
    "version": 3
   },
   "file_extension": ".py",
   "mimetype": "text/x-python",
   "name": "python",
   "nbconvert_exporter": "python",
   "pygments_lexer": "ipython3",
   "version": "3.13.7"
  }
 },
 "nbformat": 4,
 "nbformat_minor": 5
}
