{
 "cells": [
  {
   "cell_type": "markdown",
   "id": "847a74a3",
   "metadata": {},
   "source": [
    "                                                Projecto Biblioteca                                                                      \n",
    "\n",
    "\n",
    "\n",
    "\n",
    "\n",
    "\n",
    "                                             Quinto Guerrero Gustavo Adolfo\n",
    "                                                         9633366\n",
    "\n",
    "\n",
    "\n",
    "\n",
    "\n",
    "\n",
    "                                                 Alonso Guevara Perez\n",
    "\n",
    "\n",
    "\n",
    "\n",
    "\n",
    "\n",
    "                                         Corporación Universitaria Minuto de Dios\n",
    "                                                     Rectoría Bogotá\n",
    "                                                    Bogotá Presencial \n",
    "                                                 Facultad de ingeniería\n",
    "                                             Programación Orientada a Objetos\n",
    "                                                         2025\n"
   ]
  }
 ],
 "metadata": {
  "kernelspec": {
   "display_name": "Python 3",
   "language": "python",
   "name": "python3"
  },
  "language_info": {
   "codemirror_mode": {
    "name": "ipython",
    "version": 3
   },
   "file_extension": ".py",
   "mimetype": "text/x-python",
   "name": "python",
   "nbconvert_exporter": "python",
   "pygments_lexer": "ipython3",
   "version": "3.13.7"
  }
 },
 "nbformat": 4,
 "nbformat_minor": 5
}
