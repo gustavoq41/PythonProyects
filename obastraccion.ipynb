{
 "cells": [
  {
   "cell_type": "code",
   "execution_count": null,
   "id": "f466a329",
   "metadata": {},
   "outputs": [],
   "source": [
    "def area(base, altura):\n",
    "    return base * altura\n",
    "\n",
    "print(area(5, 10))\n"
   ]
  },
  {
   "cell_type": "code",
   "execution_count": 1,
   "id": "696862d8",
   "metadata": {},
   "outputs": [
    {
     "name": "stdout",
     "output_type": "stream",
     "text": [
      "True\n",
      "False\n"
     ]
    }
   ],
   "source": [
    "def par(numero):\n",
    "    return numero % 2 == 0\n",
    "print(par(4))  \n",
    "print(par(7))  \n"
   ]
  },
  {
   "cell_type": "code",
   "execution_count": null,
   "id": "3afa7d2e",
   "metadata": {},
   "outputs": [],
   "source": [
    "def conv(celsius):\n",
    "    return (celsius * 9/5) + 32\n",
    "\n",
    "print(conv(0))  \n",
    "print(conv(25))  \n"
   ]
  }
 ],
 "metadata": {
  "kernelspec": {
   "display_name": "Python 3",
   "language": "python",
   "name": "python3"
  },
  "language_info": {
   "codemirror_mode": {
    "name": "ipython",
    "version": 3
   },
   "file_extension": ".py",
   "mimetype": "text/x-python",
   "name": "python",
   "nbconvert_exporter": "python",
   "pygments_lexer": "ipython3",
   "version": "3.13.7"
  }
 },
 "nbformat": 4,
 "nbformat_minor": 5
}
